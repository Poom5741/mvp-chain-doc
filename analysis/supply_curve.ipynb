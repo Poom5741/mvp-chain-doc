{
 "cells": [
  {
   "cell_type": "code",
   "execution_count": null,
   "metadata": {},
   "outputs": [],
   "source": [
    "import numpy as np\n",
    "import matplotlib.pyplot as plt\n",
    "x = np.linspace(0,10,100)\n",
    "y = np.cumsum(np.ones_like(x))\n",
    "plt.plot(x,y)\n",
    "plt.title('Supply Curve (placeholder)')\n",
    "plt.savefig('static/figures/supply_curve.svg')\n",
    "print('Saved to static/figures/supply_curve.svg')\n"
   ]
  }
 ],
 "metadata": {
  "kernelspec": {
   "display_name": "Python 3",
   "language": "python",
   "name": "python3"
  },
  "language_info": {
   "name": "python",
   "version": "3.10"
  }
 },
 "nbformat": 4,
 "nbformat_minor": 5
}